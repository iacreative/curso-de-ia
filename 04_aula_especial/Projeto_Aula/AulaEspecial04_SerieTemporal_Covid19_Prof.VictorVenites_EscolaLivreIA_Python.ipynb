{
 "cells": [
  {
   "cell_type": "markdown",
   "metadata": {},
   "source": [
    "# <center> Série Temporal com Covid-19 </center>\n",
    "## Professor: Victor Venites\n",
    "## Data: 11/04/2020\n",
    "## Aula: Especial 04\n",
    "## Escola Livre de IA"
   ]
  },
  {
   "cell_type": "markdown",
   "metadata": {},
   "source": [
    "## 1. Importando as Bibliotecas de Python"
   ]
  },
  {
   "cell_type": "code",
   "execution_count": 1,
   "metadata": {},
   "outputs": [],
   "source": [
    "import pandas as pd\n",
    "import numpy as np\n",
    "import matplotlib.pyplot as plt\n",
    "%matplotlib inline"
   ]
  },
  {
   "cell_type": "markdown",
   "metadata": {},
   "source": [
    "## 2. Carregando as bases de Dados\n",
    "- Você pode usar comandos do prompt de comando direto no jupyter"
   ]
  },
  {
   "cell_type": "code",
   "execution_count": 2,
   "metadata": {},
   "outputs": [
    {
     "name": "stdout",
     "output_type": "stream",
     "text": [
      " O volume na unidade C ‚ Acer\n",
      " O N£mero de S‚rie do Volume ‚ AA03-647E\n",
      "\n",
      " Pasta de C:\\Users\\VictorVenites\\Desktop\\Escola_Livre_de_IA\\Especial_2020.04.11_SerieTemporal_Covid19\\Projeto_Aula\n",
      "\n",
      "11/04/2020  18:32    <DIR>          .\n",
      "11/04/2020  18:32    <DIR>          ..\n",
      "04/04/2020  03:44    <DIR>          .ipynb_checkpoints\n",
      "11/04/2020  18:32           165.615 AulaEspecial04_SerieTemporal_Covid19_Prof.VictorVenites_EscolaLivreIA_Python.ipynb\n",
      "07/04/2020  20:15               335 Jupyter_Python.bat\n",
      "11/04/2020  18:32            49.961 Resultado_AulaEspecial04_Prof.VictorVenites.jpg\n",
      "11/04/2020  15:12            65.331 time_series_covid19_confirmed_global.csv\n",
      "11/04/2020  15:12            52.985 time_series_covid19_deaths_global.csv\n",
      "11/04/2020  15:12            55.120 time_series_covid19_recovered_global.csv\n",
      "               6 arquivo(s)        389.347 bytes\n",
      "               3 pasta(s)   768.734.990.336 bytes dispon¡veis\n"
     ]
    }
   ],
   "source": [
    "!dir"
   ]
  },
  {
   "cell_type": "code",
   "execution_count": 3,
   "metadata": {},
   "outputs": [
    {
     "data": {
      "text/plain": [
       "'C:\\\\Users\\\\VictorVenites\\\\Desktop\\\\Escola_Livre_de_IA\\\\Especial_2020.04.11_SerieTemporal_Covid19\\\\Projeto_Aula'"
      ]
     },
     "execution_count": 3,
     "metadata": {},
     "output_type": "execute_result"
    }
   ],
   "source": [
    "pwd"
   ]
  },
  {
   "cell_type": "code",
   "execution_count": 4,
   "metadata": {},
   "outputs": [
    {
     "data": {
      "text/html": [
       "<div>\n",
       "<style scoped>\n",
       "    .dataframe tbody tr th:only-of-type {\n",
       "        vertical-align: middle;\n",
       "    }\n",
       "\n",
       "    .dataframe tbody tr th {\n",
       "        vertical-align: top;\n",
       "    }\n",
       "\n",
       "    .dataframe thead th {\n",
       "        text-align: right;\n",
       "    }\n",
       "</style>\n",
       "<table border=\"1\" class=\"dataframe\">\n",
       "  <thead>\n",
       "    <tr style=\"text-align: right;\">\n",
       "      <th></th>\n",
       "      <th>Province/State</th>\n",
       "      <th>Country/Region</th>\n",
       "      <th>Lat</th>\n",
       "      <th>Long</th>\n",
       "      <th>1/22/20</th>\n",
       "    </tr>\n",
       "  </thead>\n",
       "  <tbody>\n",
       "    <tr>\n",
       "      <th>0</th>\n",
       "      <td>NaN</td>\n",
       "      <td>Afghanistan</td>\n",
       "      <td>33.0000</td>\n",
       "      <td>65.0000</td>\n",
       "      <td>0</td>\n",
       "    </tr>\n",
       "    <tr>\n",
       "      <th>1</th>\n",
       "      <td>NaN</td>\n",
       "      <td>Albania</td>\n",
       "      <td>41.1533</td>\n",
       "      <td>20.1683</td>\n",
       "      <td>0</td>\n",
       "    </tr>\n",
       "    <tr>\n",
       "      <th>2</th>\n",
       "      <td>NaN</td>\n",
       "      <td>Algeria</td>\n",
       "      <td>28.0339</td>\n",
       "      <td>1.6596</td>\n",
       "      <td>0</td>\n",
       "    </tr>\n",
       "  </tbody>\n",
       "</table>\n",
       "</div>"
      ],
      "text/plain": [
       "  Province/State Country/Region      Lat     Long  1/22/20\n",
       "0            NaN    Afghanistan  33.0000  65.0000        0\n",
       "1            NaN        Albania  41.1533  20.1683        0\n",
       "2            NaN        Algeria  28.0339   1.6596        0"
      ]
     },
     "execution_count": 4,
     "metadata": {},
     "output_type": "execute_result"
    }
   ],
   "source": [
    "DataFrame = pd.read_csv(\"time_series_covid19_confirmed_global.csv\")\n",
    "DataFrame.iloc[:3, :5]"
   ]
  },
  {
   "cell_type": "markdown",
   "metadata": {},
   "source": [
    "## 3. Análise Exploratória"
   ]
  },
  {
   "cell_type": "code",
   "execution_count": 5,
   "metadata": {},
   "outputs": [
    {
     "data": {
      "text/html": [
       "<div>\n",
       "<style scoped>\n",
       "    .dataframe tbody tr th:only-of-type {\n",
       "        vertical-align: middle;\n",
       "    }\n",
       "\n",
       "    .dataframe tbody tr th {\n",
       "        vertical-align: top;\n",
       "    }\n",
       "\n",
       "    .dataframe thead th {\n",
       "        text-align: right;\n",
       "    }\n",
       "</style>\n",
       "<table border=\"1\" class=\"dataframe\">\n",
       "  <thead>\n",
       "    <tr style=\"text-align: right;\">\n",
       "      <th></th>\n",
       "      <th>Lat</th>\n",
       "      <th>Long</th>\n",
       "      <th>1/22/20</th>\n",
       "      <th>1/23/20</th>\n",
       "      <th>1/24/20</th>\n",
       "      <th>1/25/20</th>\n",
       "      <th>1/26/20</th>\n",
       "      <th>1/27/20</th>\n",
       "      <th>1/28/20</th>\n",
       "      <th>1/29/20</th>\n",
       "      <th>...</th>\n",
       "      <th>4/1/20</th>\n",
       "      <th>4/2/20</th>\n",
       "      <th>4/3/20</th>\n",
       "      <th>4/4/20</th>\n",
       "      <th>4/5/20</th>\n",
       "      <th>4/6/20</th>\n",
       "      <th>4/7/20</th>\n",
       "      <th>4/8/20</th>\n",
       "      <th>4/9/20</th>\n",
       "      <th>4/10/20</th>\n",
       "    </tr>\n",
       "  </thead>\n",
       "  <tbody>\n",
       "    <tr>\n",
       "      <th>count</th>\n",
       "      <td>264.000000</td>\n",
       "      <td>264.000000</td>\n",
       "      <td>264.000000</td>\n",
       "      <td>264.000000</td>\n",
       "      <td>264.000000</td>\n",
       "      <td>264.000000</td>\n",
       "      <td>264.000000</td>\n",
       "      <td>264.000000</td>\n",
       "      <td>264.000000</td>\n",
       "      <td>264.000000</td>\n",
       "      <td>...</td>\n",
       "      <td>264.000000</td>\n",
       "      <td>264.000000</td>\n",
       "      <td>264.000000</td>\n",
       "      <td>264.000000</td>\n",
       "      <td>264.000000</td>\n",
       "      <td>264.000000</td>\n",
       "      <td>264.000000</td>\n",
       "      <td>264.000000</td>\n",
       "      <td>264.000000</td>\n",
       "      <td>264.000000</td>\n",
       "    </tr>\n",
       "    <tr>\n",
       "      <th>mean</th>\n",
       "      <td>21.317326</td>\n",
       "      <td>22.168315</td>\n",
       "      <td>2.102273</td>\n",
       "      <td>2.477273</td>\n",
       "      <td>3.564394</td>\n",
       "      <td>5.431818</td>\n",
       "      <td>8.022727</td>\n",
       "      <td>11.087121</td>\n",
       "      <td>21.128788</td>\n",
       "      <td>23.356061</td>\n",
       "      <td>...</td>\n",
       "      <td>3532.594697</td>\n",
       "      <td>3838.886364</td>\n",
       "      <td>4151.200758</td>\n",
       "      <td>4535.636364</td>\n",
       "      <td>4818.617424</td>\n",
       "      <td>5095.079545</td>\n",
       "      <td>5401.878788</td>\n",
       "      <td>5723.878788</td>\n",
       "      <td>6042.992424</td>\n",
       "      <td>6408.026515</td>\n",
       "    </tr>\n",
       "    <tr>\n",
       "      <th>std</th>\n",
       "      <td>24.734994</td>\n",
       "      <td>70.669996</td>\n",
       "      <td>27.382118</td>\n",
       "      <td>27.480921</td>\n",
       "      <td>34.210982</td>\n",
       "      <td>47.612615</td>\n",
       "      <td>66.537101</td>\n",
       "      <td>89.647535</td>\n",
       "      <td>220.011922</td>\n",
       "      <td>221.352587</td>\n",
       "      <td>...</td>\n",
       "      <td>17859.555003</td>\n",
       "      <td>19711.027486</td>\n",
       "      <td>21667.237096</td>\n",
       "      <td>23940.073183</td>\n",
       "      <td>25670.348203</td>\n",
       "      <td>27466.891516</td>\n",
       "      <td>29364.316603</td>\n",
       "      <td>31408.470549</td>\n",
       "      <td>33419.461011</td>\n",
       "      <td>35633.968667</td>\n",
       "    </tr>\n",
       "    <tr>\n",
       "      <th>min</th>\n",
       "      <td>-51.796300</td>\n",
       "      <td>-135.000000</td>\n",
       "      <td>0.000000</td>\n",
       "      <td>0.000000</td>\n",
       "      <td>0.000000</td>\n",
       "      <td>0.000000</td>\n",
       "      <td>0.000000</td>\n",
       "      <td>0.000000</td>\n",
       "      <td>0.000000</td>\n",
       "      <td>0.000000</td>\n",
       "      <td>...</td>\n",
       "      <td>0.000000</td>\n",
       "      <td>0.000000</td>\n",
       "      <td>0.000000</td>\n",
       "      <td>0.000000</td>\n",
       "      <td>0.000000</td>\n",
       "      <td>0.000000</td>\n",
       "      <td>0.000000</td>\n",
       "      <td>0.000000</td>\n",
       "      <td>0.000000</td>\n",
       "      <td>0.000000</td>\n",
       "    </tr>\n",
       "    <tr>\n",
       "      <th>25%</th>\n",
       "      <td>6.969250</td>\n",
       "      <td>-20.026050</td>\n",
       "      <td>0.000000</td>\n",
       "      <td>0.000000</td>\n",
       "      <td>0.000000</td>\n",
       "      <td>0.000000</td>\n",
       "      <td>0.000000</td>\n",
       "      <td>0.000000</td>\n",
       "      <td>0.000000</td>\n",
       "      <td>0.000000</td>\n",
       "      <td>...</td>\n",
       "      <td>16.000000</td>\n",
       "      <td>19.000000</td>\n",
       "      <td>20.000000</td>\n",
       "      <td>20.750000</td>\n",
       "      <td>21.750000</td>\n",
       "      <td>24.000000</td>\n",
       "      <td>25.750000</td>\n",
       "      <td>27.750000</td>\n",
       "      <td>29.500000</td>\n",
       "      <td>32.000000</td>\n",
       "    </tr>\n",
       "    <tr>\n",
       "      <th>50%</th>\n",
       "      <td>23.488100</td>\n",
       "      <td>20.535638</td>\n",
       "      <td>0.000000</td>\n",
       "      <td>0.000000</td>\n",
       "      <td>0.000000</td>\n",
       "      <td>0.000000</td>\n",
       "      <td>0.000000</td>\n",
       "      <td>0.000000</td>\n",
       "      <td>0.000000</td>\n",
       "      <td>0.000000</td>\n",
       "      <td>...</td>\n",
       "      <td>165.500000</td>\n",
       "      <td>172.500000</td>\n",
       "      <td>183.000000</td>\n",
       "      <td>189.500000</td>\n",
       "      <td>208.500000</td>\n",
       "      <td>221.000000</td>\n",
       "      <td>232.500000</td>\n",
       "      <td>246.000000</td>\n",
       "      <td>254.500000</td>\n",
       "      <td>256.500000</td>\n",
       "    </tr>\n",
       "    <tr>\n",
       "      <th>75%</th>\n",
       "      <td>41.166075</td>\n",
       "      <td>78.750000</td>\n",
       "      <td>0.000000</td>\n",
       "      <td>0.000000</td>\n",
       "      <td>0.000000</td>\n",
       "      <td>0.000000</td>\n",
       "      <td>0.000000</td>\n",
       "      <td>0.000000</td>\n",
       "      <td>0.000000</td>\n",
       "      <td>0.000000</td>\n",
       "      <td>...</td>\n",
       "      <td>779.500000</td>\n",
       "      <td>873.000000</td>\n",
       "      <td>943.000000</td>\n",
       "      <td>980.250000</td>\n",
       "      <td>1019.500000</td>\n",
       "      <td>1049.750000</td>\n",
       "      <td>1128.750000</td>\n",
       "      <td>1189.250000</td>\n",
       "      <td>1233.750000</td>\n",
       "      <td>1269.250000</td>\n",
       "    </tr>\n",
       "    <tr>\n",
       "      <th>max</th>\n",
       "      <td>71.706900</td>\n",
       "      <td>178.065000</td>\n",
       "      <td>444.000000</td>\n",
       "      <td>444.000000</td>\n",
       "      <td>549.000000</td>\n",
       "      <td>761.000000</td>\n",
       "      <td>1058.000000</td>\n",
       "      <td>1423.000000</td>\n",
       "      <td>3554.000000</td>\n",
       "      <td>3554.000000</td>\n",
       "      <td>...</td>\n",
       "      <td>213372.000000</td>\n",
       "      <td>243762.000000</td>\n",
       "      <td>275586.000000</td>\n",
       "      <td>308853.000000</td>\n",
       "      <td>337072.000000</td>\n",
       "      <td>366667.000000</td>\n",
       "      <td>396223.000000</td>\n",
       "      <td>429052.000000</td>\n",
       "      <td>461437.000000</td>\n",
       "      <td>496535.000000</td>\n",
       "    </tr>\n",
       "  </tbody>\n",
       "</table>\n",
       "<p>8 rows × 82 columns</p>\n",
       "</div>"
      ],
      "text/plain": [
       "              Lat        Long     1/22/20     1/23/20     1/24/20     1/25/20  \\\n",
       "count  264.000000  264.000000  264.000000  264.000000  264.000000  264.000000   \n",
       "mean    21.317326   22.168315    2.102273    2.477273    3.564394    5.431818   \n",
       "std     24.734994   70.669996   27.382118   27.480921   34.210982   47.612615   \n",
       "min    -51.796300 -135.000000    0.000000    0.000000    0.000000    0.000000   \n",
       "25%      6.969250  -20.026050    0.000000    0.000000    0.000000    0.000000   \n",
       "50%     23.488100   20.535638    0.000000    0.000000    0.000000    0.000000   \n",
       "75%     41.166075   78.750000    0.000000    0.000000    0.000000    0.000000   \n",
       "max     71.706900  178.065000  444.000000  444.000000  549.000000  761.000000   \n",
       "\n",
       "           1/26/20      1/27/20      1/28/20      1/29/20  ...         4/1/20  \\\n",
       "count   264.000000   264.000000   264.000000   264.000000  ...     264.000000   \n",
       "mean      8.022727    11.087121    21.128788    23.356061  ...    3532.594697   \n",
       "std      66.537101    89.647535   220.011922   221.352587  ...   17859.555003   \n",
       "min       0.000000     0.000000     0.000000     0.000000  ...       0.000000   \n",
       "25%       0.000000     0.000000     0.000000     0.000000  ...      16.000000   \n",
       "50%       0.000000     0.000000     0.000000     0.000000  ...     165.500000   \n",
       "75%       0.000000     0.000000     0.000000     0.000000  ...     779.500000   \n",
       "max    1058.000000  1423.000000  3554.000000  3554.000000  ...  213372.000000   \n",
       "\n",
       "              4/2/20         4/3/20         4/4/20         4/5/20  \\\n",
       "count     264.000000     264.000000     264.000000     264.000000   \n",
       "mean     3838.886364    4151.200758    4535.636364    4818.617424   \n",
       "std     19711.027486   21667.237096   23940.073183   25670.348203   \n",
       "min         0.000000       0.000000       0.000000       0.000000   \n",
       "25%        19.000000      20.000000      20.750000      21.750000   \n",
       "50%       172.500000     183.000000     189.500000     208.500000   \n",
       "75%       873.000000     943.000000     980.250000    1019.500000   \n",
       "max    243762.000000  275586.000000  308853.000000  337072.000000   \n",
       "\n",
       "              4/6/20         4/7/20         4/8/20         4/9/20  \\\n",
       "count     264.000000     264.000000     264.000000     264.000000   \n",
       "mean     5095.079545    5401.878788    5723.878788    6042.992424   \n",
       "std     27466.891516   29364.316603   31408.470549   33419.461011   \n",
       "min         0.000000       0.000000       0.000000       0.000000   \n",
       "25%        24.000000      25.750000      27.750000      29.500000   \n",
       "50%       221.000000     232.500000     246.000000     254.500000   \n",
       "75%      1049.750000    1128.750000    1189.250000    1233.750000   \n",
       "max    366667.000000  396223.000000  429052.000000  461437.000000   \n",
       "\n",
       "             4/10/20  \n",
       "count     264.000000  \n",
       "mean     6408.026515  \n",
       "std     35633.968667  \n",
       "min         0.000000  \n",
       "25%        32.000000  \n",
       "50%       256.500000  \n",
       "75%      1269.250000  \n",
       "max    496535.000000  \n",
       "\n",
       "[8 rows x 82 columns]"
      ]
     },
     "execution_count": 5,
     "metadata": {},
     "output_type": "execute_result"
    }
   ],
   "source": [
    "DataFrame.describe()"
   ]
  },
  {
   "cell_type": "code",
   "execution_count": 6,
   "metadata": {},
   "outputs": [
    {
     "data": {
      "text/html": [
       "<div>\n",
       "<style scoped>\n",
       "    .dataframe tbody tr th:only-of-type {\n",
       "        vertical-align: middle;\n",
       "    }\n",
       "\n",
       "    .dataframe tbody tr th {\n",
       "        vertical-align: top;\n",
       "    }\n",
       "\n",
       "    .dataframe thead th {\n",
       "        text-align: right;\n",
       "    }\n",
       "</style>\n",
       "<table border=\"1\" class=\"dataframe\">\n",
       "  <thead>\n",
       "    <tr style=\"text-align: right;\">\n",
       "      <th></th>\n",
       "      <th>1/22/20</th>\n",
       "      <th>1/23/20</th>\n",
       "      <th>1/24/20</th>\n",
       "    </tr>\n",
       "  </thead>\n",
       "  <tbody>\n",
       "    <tr>\n",
       "      <th>0</th>\n",
       "      <td>0</td>\n",
       "      <td>0</td>\n",
       "      <td>0</td>\n",
       "    </tr>\n",
       "    <tr>\n",
       "      <th>1</th>\n",
       "      <td>0</td>\n",
       "      <td>0</td>\n",
       "      <td>0</td>\n",
       "    </tr>\n",
       "    <tr>\n",
       "      <th>2</th>\n",
       "      <td>0</td>\n",
       "      <td>0</td>\n",
       "      <td>0</td>\n",
       "    </tr>\n",
       "  </tbody>\n",
       "</table>\n",
       "</div>"
      ],
      "text/plain": [
       "   1/22/20  1/23/20  1/24/20\n",
       "0        0        0        0\n",
       "1        0        0        0\n",
       "2        0        0        0"
      ]
     },
     "execution_count": 6,
     "metadata": {},
     "output_type": "execute_result"
    }
   ],
   "source": [
    "Serie_Temporal = DataFrame.copy()\n",
    "Serie_Temporal.drop(columns = [\"Province/State\", \"Country/Region\", \"Lat\", \"Long\"], inplace = True)\n",
    "Serie_Temporal.iloc[:3, :3]"
   ]
  },
  {
   "cell_type": "markdown",
   "metadata": {},
   "source": [
    "## 4. Juntando tudo em 1 série Temporal"
   ]
  },
  {
   "cell_type": "code",
   "execution_count": 7,
   "metadata": {},
   "outputs": [
    {
     "data": {
      "text/html": [
       "<div>\n",
       "<style scoped>\n",
       "    .dataframe tbody tr th:only-of-type {\n",
       "        vertical-align: middle;\n",
       "    }\n",
       "\n",
       "    .dataframe tbody tr th {\n",
       "        vertical-align: top;\n",
       "    }\n",
       "\n",
       "    .dataframe thead th {\n",
       "        text-align: right;\n",
       "    }\n",
       "</style>\n",
       "<table border=\"1\" class=\"dataframe\">\n",
       "  <thead>\n",
       "    <tr style=\"text-align: right;\">\n",
       "      <th></th>\n",
       "      <th>y</th>\n",
       "    </tr>\n",
       "  </thead>\n",
       "  <tbody>\n",
       "    <tr>\n",
       "      <th>1/22/20</th>\n",
       "      <td>555</td>\n",
       "    </tr>\n",
       "    <tr>\n",
       "      <th>1/23/20</th>\n",
       "      <td>654</td>\n",
       "    </tr>\n",
       "    <tr>\n",
       "      <th>1/24/20</th>\n",
       "      <td>941</td>\n",
       "    </tr>\n",
       "    <tr>\n",
       "      <th>1/25/20</th>\n",
       "      <td>1434</td>\n",
       "    </tr>\n",
       "    <tr>\n",
       "      <th>1/26/20</th>\n",
       "      <td>2118</td>\n",
       "    </tr>\n",
       "  </tbody>\n",
       "</table>\n",
       "</div>"
      ],
      "text/plain": [
       "            y\n",
       "1/22/20   555\n",
       "1/23/20   654\n",
       "1/24/20   941\n",
       "1/25/20  1434\n",
       "1/26/20  2118"
      ]
     },
     "execution_count": 7,
     "metadata": {},
     "output_type": "execute_result"
    }
   ],
   "source": [
    "Serie_Geral = Serie_Temporal.sum().copy()\n",
    "Serie_Geral = pd.DataFrame(Serie_Geral)\n",
    "Serie_Geral.rename(columns = {0 : \"y\"}, inplace = True)\n",
    "Serie_Geral.head()"
   ]
  },
  {
   "cell_type": "markdown",
   "metadata": {},
   "source": [
    "## 5. Todos a Partir do Tempo 0"
   ]
  },
  {
   "cell_type": "code",
   "execution_count": 8,
   "metadata": {},
   "outputs": [
    {
     "data": {
      "image/png": "[encoded data removed]",
      "text/plain": [
       "<Figure size 1152x432 with 1 Axes>"
      ]
     },
     "metadata": {
      "needs_background": "light"
     },
     "output_type": "display_data"
    }
   ],
   "source": [
    "Serie_Geral.plot(figsize = (16,6))\n",
    "plt.show()"
   ]
  },
  {
   "cell_type": "code",
   "execution_count": 9,
   "metadata": {},
   "outputs": [],
   "source": [
    "Serie_Geral.index = pd.to_datetime(Serie_Geral.index)\n",
    "Serie_Geral.info()"
   ]
  },
  {
   "cell_type": "code",
   "execution_count": 11,
   "metadata": {},
   "outputs": [
    {
     "data": {
      "text/html": [
       "<div>\n",
       "<style scoped>\n",
       "    .dataframe tbody tr th:only-of-type {\n",
       "        vertical-align: middle;\n",
       "    }\n",
       "\n",
       "    .dataframe tbody tr th {\n",
       "        vertical-align: top;\n",
       "    }\n",
       "\n",
       "    .dataframe thead th {\n",
       "        text-align: right;\n",
       "    }\n",
       "</style>\n",
       "<table border=\"1\" class=\"dataframe\">\n",
       "  <thead>\n",
       "    <tr style=\"text-align: right;\">\n",
       "      <th></th>\n",
       "      <th>y</th>\n",
       "      <th>tempos</th>\n",
       "    </tr>\n",
       "  </thead>\n",
       "  <tbody>\n",
       "    <tr>\n",
       "      <th>2020-01-22</th>\n",
       "      <td>555</td>\n",
       "      <td>0</td>\n",
       "    </tr>\n",
       "    <tr>\n",
       "      <th>2020-01-23</th>\n",
       "      <td>654</td>\n",
       "      <td>1</td>\n",
       "    </tr>\n",
       "    <tr>\n",
       "      <th>2020-01-24</th>\n",
       "      <td>941</td>\n",
       "      <td>2</td>\n",
       "    </tr>\n",
       "    <tr>\n",
       "      <th>2020-01-25</th>\n",
       "      <td>1434</td>\n",
       "      <td>3</td>\n",
       "    </tr>\n",
       "    <tr>\n",
       "      <th>2020-01-26</th>\n",
       "      <td>2118</td>\n",
       "      <td>4</td>\n",
       "    </tr>\n",
       "  </tbody>\n",
       "</table>\n",
       "</div>"
      ],
      "text/plain": [
       "               y  tempos\n",
       "2020-01-22   555       0\n",
       "2020-01-23   654       1\n",
       "2020-01-24   941       2\n",
       "2020-01-25  1434       3\n",
       "2020-01-26  2118       4"
      ]
     },
     "execution_count": 11,
     "metadata": {},
     "output_type": "execute_result"
    }
   ],
   "source": [
    "tempos = list(range(Serie_Geral.shape[0]))\n",
    "Serie_Geral[\"tempos\"] = tempos\n",
    "Serie_Geral.head()"
   ]
  },
  {
   "cell_type": "code",
   "execution_count": 12,
   "metadata": {},
   "outputs": [
    {
     "data": {
      "text/html": [
       "<div>\n",
       "<style scoped>\n",
       "    .dataframe tbody tr th:only-of-type {\n",
       "        vertical-align: middle;\n",
       "    }\n",
       "\n",
       "    .dataframe tbody tr th {\n",
       "        vertical-align: top;\n",
       "    }\n",
       "\n",
       "    .dataframe thead th {\n",
       "        text-align: right;\n",
       "    }\n",
       "</style>\n",
       "<table border=\"1\" class=\"dataframe\">\n",
       "  <thead>\n",
       "    <tr style=\"text-align: right;\">\n",
       "      <th></th>\n",
       "      <th>y</th>\n",
       "      <th>tempos</th>\n",
       "      <th>Dia</th>\n",
       "      <th>Dia_da_Semana</th>\n",
       "    </tr>\n",
       "  </thead>\n",
       "  <tbody>\n",
       "    <tr>\n",
       "      <th>2020-04-06</th>\n",
       "      <td>1345101</td>\n",
       "      <td>75</td>\n",
       "      <td>6</td>\n",
       "      <td>0</td>\n",
       "    </tr>\n",
       "    <tr>\n",
       "      <th>2020-04-07</th>\n",
       "      <td>1426096</td>\n",
       "      <td>76</td>\n",
       "      <td>7</td>\n",
       "      <td>1</td>\n",
       "    </tr>\n",
       "    <tr>\n",
       "      <th>2020-04-08</th>\n",
       "      <td>1511104</td>\n",
       "      <td>77</td>\n",
       "      <td>8</td>\n",
       "      <td>2</td>\n",
       "    </tr>\n",
       "    <tr>\n",
       "      <th>2020-04-09</th>\n",
       "      <td>1595350</td>\n",
       "      <td>78</td>\n",
       "      <td>9</td>\n",
       "      <td>3</td>\n",
       "    </tr>\n",
       "    <tr>\n",
       "      <th>2020-04-10</th>\n",
       "      <td>1691719</td>\n",
       "      <td>79</td>\n",
       "      <td>10</td>\n",
       "      <td>4</td>\n",
       "    </tr>\n",
       "  </tbody>\n",
       "</table>\n",
       "</div>"
      ],
      "text/plain": [
       "                  y  tempos  Dia  Dia_da_Semana\n",
       "2020-04-06  1345101      75    6              0\n",
       "2020-04-07  1426096      76    7              1\n",
       "2020-04-08  1511104      77    8              2\n",
       "2020-04-09  1595350      78    9              3\n",
       "2020-04-10  1691719      79   10              4"
      ]
     },
     "execution_count": 12,
     "metadata": {},
     "output_type": "execute_result"
    }
   ],
   "source": [
    "Serie_Geral['Dia'] = Serie_Geral.index.day\n",
    "Serie_Geral['Dia_da_Semana'] = Serie_Geral.index.dayofweek\n",
    "# 0 até 6 -> Onde zero é a Segunda\n",
    "Serie_Geral.tail()"
   ]
  },
  {
   "cell_type": "code",
   "execution_count": 13,
   "metadata": {},
   "outputs": [
    {
     "data": {
      "text/plain": [
       "<matplotlib.axes._subplots.AxesSubplot at 0x27d2b7fbac8>"
      ]
     },
     "execution_count": 13,
     "metadata": {},
     "output_type": "execute_result"
    },
    {
     "data": {
      "image/png": "[encoded data removed]",
      "text/plain": [
       "<Figure size 1152x432 with 1 Axes>"
      ]
     },
     "metadata": {
      "needs_background": "light"
     },
     "output_type": "display_data"
    }
   ],
   "source": [
    "Serie_Geral.groupby('Dia')[\"y\"].max().plot.bar(figsize = (16,6))"
   ]
  },
  {
   "cell_type": "code",
   "execution_count": 14,
   "metadata": {},
   "outputs": [
    {
     "data": {
      "text/plain": [
       "<matplotlib.axes._subplots.AxesSubplot at 0x27d2bcc37f0>"
      ]
     },
     "execution_count": 14,
     "metadata": {},
     "output_type": "execute_result"
    },
    {
     "data": {
      "image/png": "[encoded data removed]",
      "text/plain": [
       "<Figure size 1152x432 with 1 Axes>"
      ]
     },
     "metadata": {
      "needs_background": "light"
     },
     "output_type": "display_data"
    }
   ],
   "source": [
    "Serie_Geral.groupby('Dia_da_Semana')[\"y\"].mean().plot.bar(figsize = (16,6))"
   ]
  },
  {
   "cell_type": "code",
   "execution_count": 16,
   "metadata": {},
   "outputs": [
    {
     "data": {
      "text/plain": [
       "80"
      ]
     },
     "execution_count": 16,
     "metadata": {},
     "output_type": "execute_result"
    }
   ],
   "source": [
    "Serie_Geral.shape[0]"
   ]
  },
  {
   "cell_type": "code",
   "execution_count": 17,
   "metadata": {},
   "outputs": [
    {
     "data": {
      "text/html": [
       "<div>\n",
       "<style scoped>\n",
       "    .dataframe tbody tr th:only-of-type {\n",
       "        vertical-align: middle;\n",
       "    }\n",
       "\n",
       "    .dataframe tbody tr th {\n",
       "        vertical-align: top;\n",
       "    }\n",
       "\n",
       "    .dataframe thead th {\n",
       "        text-align: right;\n",
       "    }\n",
       "</style>\n",
       "<table border=\"1\" class=\"dataframe\">\n",
       "  <thead>\n",
       "    <tr style=\"text-align: right;\">\n",
       "      <th></th>\n",
       "      <th>y</th>\n",
       "      <th>tempos</th>\n",
       "      <th>Dia</th>\n",
       "      <th>Dia_da_Semana</th>\n",
       "      <th>1</th>\n",
       "      <th>2</th>\n",
       "      <th>3</th>\n",
       "      <th>4</th>\n",
       "      <th>5</th>\n",
       "      <th>6</th>\n",
       "      <th>...</th>\n",
       "      <th>21</th>\n",
       "      <th>22</th>\n",
       "      <th>23</th>\n",
       "      <th>24</th>\n",
       "      <th>25</th>\n",
       "      <th>26</th>\n",
       "      <th>27</th>\n",
       "      <th>28</th>\n",
       "      <th>29</th>\n",
       "      <th>30</th>\n",
       "    </tr>\n",
       "  </thead>\n",
       "  <tbody>\n",
       "    <tr>\n",
       "      <th>2020-01-22</th>\n",
       "      <td>555</td>\n",
       "      <td>0</td>\n",
       "      <td>22</td>\n",
       "      <td>2</td>\n",
       "      <td>0</td>\n",
       "      <td>1</td>\n",
       "      <td>0</td>\n",
       "      <td>0</td>\n",
       "      <td>0</td>\n",
       "      <td>0</td>\n",
       "      <td>...</td>\n",
       "      <td>0</td>\n",
       "      <td>1</td>\n",
       "      <td>0</td>\n",
       "      <td>0</td>\n",
       "      <td>0</td>\n",
       "      <td>0</td>\n",
       "      <td>0</td>\n",
       "      <td>0</td>\n",
       "      <td>0</td>\n",
       "      <td>0</td>\n",
       "    </tr>\n",
       "    <tr>\n",
       "      <th>2020-01-23</th>\n",
       "      <td>654</td>\n",
       "      <td>1</td>\n",
       "      <td>23</td>\n",
       "      <td>3</td>\n",
       "      <td>0</td>\n",
       "      <td>0</td>\n",
       "      <td>1</td>\n",
       "      <td>0</td>\n",
       "      <td>0</td>\n",
       "      <td>0</td>\n",
       "      <td>...</td>\n",
       "      <td>0</td>\n",
       "      <td>0</td>\n",
       "      <td>1</td>\n",
       "      <td>0</td>\n",
       "      <td>0</td>\n",
       "      <td>0</td>\n",
       "      <td>0</td>\n",
       "      <td>0</td>\n",
       "      <td>0</td>\n",
       "      <td>0</td>\n",
       "    </tr>\n",
       "    <tr>\n",
       "      <th>2020-01-24</th>\n",
       "      <td>941</td>\n",
       "      <td>2</td>\n",
       "      <td>24</td>\n",
       "      <td>4</td>\n",
       "      <td>0</td>\n",
       "      <td>0</td>\n",
       "      <td>0</td>\n",
       "      <td>1</td>\n",
       "      <td>0</td>\n",
       "      <td>0</td>\n",
       "      <td>...</td>\n",
       "      <td>0</td>\n",
       "      <td>0</td>\n",
       "      <td>0</td>\n",
       "      <td>1</td>\n",
       "      <td>0</td>\n",
       "      <td>0</td>\n",
       "      <td>0</td>\n",
       "      <td>0</td>\n",
       "      <td>0</td>\n",
       "      <td>0</td>\n",
       "    </tr>\n",
       "  </tbody>\n",
       "</table>\n",
       "<p>3 rows × 39 columns</p>\n",
       "</div>"
      ],
      "text/plain": [
       "              y  tempos  Dia  Dia_da_Semana  1  2  3  4  5  6  ...  21  22  \\\n",
       "2020-01-22  555       0   22              2  0  1  0  0  0  0  ...   0   1   \n",
       "2020-01-23  654       1   23              3  0  0  1  0  0  0  ...   0   0   \n",
       "2020-01-24  941       2   24              4  0  0  0  1  0  0  ...   0   0   \n",
       "\n",
       "            23  24  25  26  27  28  29  30  \n",
       "2020-01-22   0   0   0   0   0   0   0   0  \n",
       "2020-01-23   1   0   0   0   0   0   0   0  \n",
       "2020-01-24   0   1   0   0   0   0   0   0  \n",
       "\n",
       "[3 rows x 39 columns]"
      ]
     },
     "execution_count": 17,
     "metadata": {},
     "output_type": "execute_result"
    }
   ],
   "source": [
    "dummies_Dia_Semana = pd.get_dummies(Serie_Geral[\"Dia_da_Semana\"], drop_first = True)\n",
    "Serie_Geral = pd.concat([Serie_Geral, dummies_Dia_Semana], axis = 1)\n",
    "dummies_Dia = pd.get_dummies(Serie_Geral[\"Dia\"], drop_first = True)\n",
    "Serie_Geral = pd.concat([Serie_Geral, dummies_Dia], axis = 1)\n",
    "Serie_Geral.drop(columns = 31, inplace = True)\n",
    "Serie_Geral.iloc[:3, :]"
   ]
  },
  {
   "cell_type": "code",
   "execution_count": 18,
   "metadata": {},
   "outputs": [
    {
     "data": {
      "text/html": [
       "<div>\n",
       "<style scoped>\n",
       "    .dataframe tbody tr th:only-of-type {\n",
       "        vertical-align: middle;\n",
       "    }\n",
       "\n",
       "    .dataframe tbody tr th {\n",
       "        vertical-align: top;\n",
       "    }\n",
       "\n",
       "    .dataframe thead th {\n",
       "        text-align: right;\n",
       "    }\n",
       "</style>\n",
       "<table border=\"1\" class=\"dataframe\">\n",
       "  <thead>\n",
       "    <tr style=\"text-align: right;\">\n",
       "      <th></th>\n",
       "      <th>y</th>\n",
       "      <th>tempos</th>\n",
       "      <th>Dia</th>\n",
       "      <th>Dia_da_Semana</th>\n",
       "      <th>1</th>\n",
       "      <th>2</th>\n",
       "      <th>3</th>\n",
       "      <th>4</th>\n",
       "      <th>5</th>\n",
       "      <th>6</th>\n",
       "      <th>...</th>\n",
       "      <th>22</th>\n",
       "      <th>23</th>\n",
       "      <th>24</th>\n",
       "      <th>25</th>\n",
       "      <th>26</th>\n",
       "      <th>27</th>\n",
       "      <th>28</th>\n",
       "      <th>29</th>\n",
       "      <th>30</th>\n",
       "      <th>Anterior</th>\n",
       "    </tr>\n",
       "  </thead>\n",
       "  <tbody>\n",
       "    <tr>\n",
       "      <th>2020-01-27</th>\n",
       "      <td>2927</td>\n",
       "      <td>5</td>\n",
       "      <td>27</td>\n",
       "      <td>0</td>\n",
       "      <td>0</td>\n",
       "      <td>0</td>\n",
       "      <td>0</td>\n",
       "      <td>0</td>\n",
       "      <td>0</td>\n",
       "      <td>0</td>\n",
       "      <td>...</td>\n",
       "      <td>0</td>\n",
       "      <td>0</td>\n",
       "      <td>0</td>\n",
       "      <td>0</td>\n",
       "      <td>0</td>\n",
       "      <td>1</td>\n",
       "      <td>0</td>\n",
       "      <td>0</td>\n",
       "      <td>0</td>\n",
       "      <td>555.0</td>\n",
       "    </tr>\n",
       "    <tr>\n",
       "      <th>2020-01-28</th>\n",
       "      <td>5578</td>\n",
       "      <td>6</td>\n",
       "      <td>28</td>\n",
       "      <td>1</td>\n",
       "      <td>1</td>\n",
       "      <td>0</td>\n",
       "      <td>0</td>\n",
       "      <td>0</td>\n",
       "      <td>0</td>\n",
       "      <td>0</td>\n",
       "      <td>...</td>\n",
       "      <td>0</td>\n",
       "      <td>0</td>\n",
       "      <td>0</td>\n",
       "      <td>0</td>\n",
       "      <td>0</td>\n",
       "      <td>0</td>\n",
       "      <td>1</td>\n",
       "      <td>0</td>\n",
       "      <td>0</td>\n",
       "      <td>654.0</td>\n",
       "    </tr>\n",
       "    <tr>\n",
       "      <th>2020-01-29</th>\n",
       "      <td>6166</td>\n",
       "      <td>7</td>\n",
       "      <td>29</td>\n",
       "      <td>2</td>\n",
       "      <td>0</td>\n",
       "      <td>1</td>\n",
       "      <td>0</td>\n",
       "      <td>0</td>\n",
       "      <td>0</td>\n",
       "      <td>0</td>\n",
       "      <td>...</td>\n",
       "      <td>0</td>\n",
       "      <td>0</td>\n",
       "      <td>0</td>\n",
       "      <td>0</td>\n",
       "      <td>0</td>\n",
       "      <td>0</td>\n",
       "      <td>0</td>\n",
       "      <td>1</td>\n",
       "      <td>0</td>\n",
       "      <td>941.0</td>\n",
       "    </tr>\n",
       "    <tr>\n",
       "      <th>2020-01-30</th>\n",
       "      <td>8234</td>\n",
       "      <td>8</td>\n",
       "      <td>30</td>\n",
       "      <td>3</td>\n",
       "      <td>0</td>\n",
       "      <td>0</td>\n",
       "      <td>1</td>\n",
       "      <td>0</td>\n",
       "      <td>0</td>\n",
       "      <td>0</td>\n",
       "      <td>...</td>\n",
       "      <td>0</td>\n",
       "      <td>0</td>\n",
       "      <td>0</td>\n",
       "      <td>0</td>\n",
       "      <td>0</td>\n",
       "      <td>0</td>\n",
       "      <td>0</td>\n",
       "      <td>0</td>\n",
       "      <td>1</td>\n",
       "      <td>1434.0</td>\n",
       "    </tr>\n",
       "    <tr>\n",
       "      <th>2020-01-31</th>\n",
       "      <td>9927</td>\n",
       "      <td>9</td>\n",
       "      <td>31</td>\n",
       "      <td>4</td>\n",
       "      <td>0</td>\n",
       "      <td>0</td>\n",
       "      <td>0</td>\n",
       "      <td>1</td>\n",
       "      <td>0</td>\n",
       "      <td>0</td>\n",
       "      <td>...</td>\n",
       "      <td>0</td>\n",
       "      <td>0</td>\n",
       "      <td>0</td>\n",
       "      <td>0</td>\n",
       "      <td>0</td>\n",
       "      <td>0</td>\n",
       "      <td>0</td>\n",
       "      <td>0</td>\n",
       "      <td>0</td>\n",
       "      <td>2118.0</td>\n",
       "    </tr>\n",
       "  </tbody>\n",
       "</table>\n",
       "<p>5 rows × 40 columns</p>\n",
       "</div>"
      ],
      "text/plain": [
       "               y  tempos  Dia  Dia_da_Semana  1  2  3  4  5  6  ...  22  23  \\\n",
       "2020-01-27  2927       5   27              0  0  0  0  0  0  0  ...   0   0   \n",
       "2020-01-28  5578       6   28              1  1  0  0  0  0  0  ...   0   0   \n",
       "2020-01-29  6166       7   29              2  0  1  0  0  0  0  ...   0   0   \n",
       "2020-01-30  8234       8   30              3  0  0  1  0  0  0  ...   0   0   \n",
       "2020-01-31  9927       9   31              4  0  0  0  1  0  0  ...   0   0   \n",
       "\n",
       "            24  25  26  27  28  29  30  Anterior  \n",
       "2020-01-27   0   0   0   1   0   0   0     555.0  \n",
       "2020-01-28   0   0   0   0   1   0   0     654.0  \n",
       "2020-01-29   0   0   0   0   0   1   0     941.0  \n",
       "2020-01-30   0   0   0   0   0   0   1    1434.0  \n",
       "2020-01-31   0   0   0   0   0   0   0    2118.0  \n",
       "\n",
       "[5 rows x 40 columns]"
      ]
     },
     "execution_count": 18,
     "metadata": {},
     "output_type": "execute_result"
    }
   ],
   "source": [
    "Serie_Geral[\"Anterior\"] = Serie_Geral[\"y\"].shift(5)\n",
    "Serie_Geral = Serie_Geral.iloc[5:]\n",
    "Serie_Geral.head()"
   ]
  },
  {
   "cell_type": "markdown",
   "metadata": {},
   "source": [
    "## 6. Previsão da Série por Soma Cumulativa"
   ]
  },
  {
   "cell_type": "code",
   "execution_count": 20,
   "metadata": {},
   "outputs": [
    {
     "data": {
      "text/plain": [
       "15"
      ]
     },
     "execution_count": 20,
     "metadata": {},
     "output_type": "execute_result"
    }
   ],
   "source": [
    "Taxa_Treino = 0.8\n",
    "X_Treino = Serie_Geral.iloc[:round(Serie_Geral.shape[0] * Taxa_Treino), 1:]\n",
    "X_Teste = Serie_Geral.iloc[round(Serie_Geral.shape[0] * Taxa_Treino):, 1:]\n",
    "\n",
    "Y_Treino = Serie_Geral.iloc[:round(Serie_Geral.shape[0] * Taxa_Treino), 0]\n",
    "Y_Teste = Serie_Geral.iloc[round(Serie_Geral.shape[0] * Taxa_Treino):, 0]\n",
    "len(Y_Teste)"
   ]
  },
  {
   "cell_type": "code",
   "execution_count": 21,
   "metadata": {},
   "outputs": [
    {
     "data": {
      "image/png": "[encoded data removed]",
      "text/plain": [
       "<Figure size 1152x432 with 1 Axes>"
      ]
     },
     "metadata": {
      "needs_background": "light"
     },
     "output_type": "display_data"
    }
   ],
   "source": [
    "plt.figure(figsize = (16,6))\n",
    "plt.title(f\"Previsão de {len(Y_Teste)} Dias\")\n",
    "plt.plot(Y_Treino)\n",
    "plt.plot(Y_Teste)\n",
    "plt.show()"
   ]
  },
  {
   "cell_type": "code",
   "execution_count": 22,
   "metadata": {},
   "outputs": [],
   "source": [
    "from sklearn.linear_model import LinearRegression"
   ]
  },
  {
   "cell_type": "code",
   "execution_count": 23,
   "metadata": {},
   "outputs": [
    {
     "data": {
      "text/plain": [
       "0.9908783813785254"
      ]
     },
     "execution_count": 23,
     "metadata": {},
     "output_type": "execute_result"
    }
   ],
   "source": [
    "modelo = LinearRegression().fit(X_Treino, Y_Treino)\n",
    "modelo.score(X_Treino, Y_Treino)"
   ]
  },
  {
   "cell_type": "code",
   "execution_count": 24,
   "metadata": {},
   "outputs": [
    {
     "data": {
      "text/plain": [
       "(array([-3.65666944e+03,  5.01509963e+02, -1.81487302e+03,  9.22282436e+02,\n",
       "        -1.96403425e+03, -9.89399539e+03, -5.84853357e+03,  2.41798784e+03,\n",
       "         7.02951572e+03, -1.61374629e+03,  3.09470860e+02,  4.88533465e+03,\n",
       "         1.37882753e+04,  1.83530455e+04,  1.21848614e+04,  6.65675542e+03,\n",
       "         1.59961369e+03, -1.47845468e+03, -1.93525219e+02,  1.56880086e+03,\n",
       "         1.56549735e+04,  1.42229978e+04,  9.44047702e+03,  5.18534773e+03,\n",
       "         1.18246617e+04, -1.45604750e+04, -1.29847007e+04, -8.74777768e+03,\n",
       "        -1.49545364e+04, -2.24486199e+04, -2.75918067e+04, -4.29142572e+04,\n",
       "        -5.14959946e+04, -5.30062272e+04, -2.70834701e+04, -2.32274288e+04,\n",
       "        -2.08758974e+04, -8.16270089e+02,  2.63348040e+00]), 34820.53028845774)"
      ]
     },
     "execution_count": 24,
     "metadata": {},
     "output_type": "execute_result"
    }
   ],
   "source": [
    "modelo.coef_, modelo.intercept_"
   ]
  },
  {
   "cell_type": "code",
   "execution_count": 25,
   "metadata": {},
   "outputs": [
    {
     "data": {
      "text/plain": [
       "2020-03-27     657845.0\n",
       "2020-03-28     773713.0\n",
       "2020-03-29     880545.0\n",
       "2020-03-30    1031951.0\n",
       "2020-03-31    1191832.0\n",
       "2020-04-01    1336182.0\n",
       "2020-04-02    1499170.0\n",
       "2020-04-03    1656721.0\n",
       "2020-04-04    1828525.0\n",
       "2020-04-05    2034838.0\n",
       "2020-04-06    2237929.0\n",
       "2020-04-07    2440659.0\n",
       "2020-04-08    2644408.0\n",
       "2020-04-09    2893725.0\n",
       "2020-04-10    3086462.0\n",
       "Name: 0, dtype: float64"
      ]
     },
     "execution_count": 25,
     "metadata": {},
     "output_type": "execute_result"
    }
   ],
   "source": [
    "Previsto = modelo.predict(X_Teste)\n",
    "Previsto = Previsto.round()\n",
    "df_Previsao = X_Teste.copy()\n",
    "df_Previsao[0] = Previsto\n",
    "df_Previsao = df_Previsao.loc[:, 0]\n",
    "df_Previsao"
   ]
  },
  {
   "cell_type": "markdown",
   "metadata": {},
   "source": [
    "### 6.1. MAPE será nossa medida de Erro alem do Score da Regressão"
   ]
  },
  {
   "cell_type": "code",
   "execution_count": 26,
   "metadata": {},
   "outputs": [],
   "source": [
    "# Percentual de Erro da Média Absoluta\n",
    "def mean_absolute_percentage_error(y_true, y_pred):\n",
    "    y_true = np.array(y_true) + 1\n",
    "    y_pred = np.array(y_pred) + 1\n",
    "    # Add +1 para evitar divisão por zero\n",
    "    return np.mean(np.abs((y_true - y_pred) / y_true))\n",
    "# Quanto menor, melhor"
   ]
  },
  {
   "cell_type": "code",
   "execution_count": 27,
   "metadata": {},
   "outputs": [],
   "source": [
    "# MAPE => Mean Absolute Percentage Error\n",
    "Erro_Treino = mean_absolute_percentage_error(Y_Treino.values.reshape(-1, 1), modelo.predict(X_Treino).reshape(-1, 1))\n",
    "Erro_Treino = round(Erro_Treino * 100, 2)\n",
    "Erro_Teste = mean_absolute_percentage_error(Y_Teste.values, df_Previsao.values)\n",
    "Erro_Teste = round(Erro_Teste * 100, 2)\n",
    "Score_Bonito = round(modelo.score(X_Treino, Y_Treino), 4) * 100"
   ]
  },
  {
   "cell_type": "code",
   "execution_count": 28,
   "metadata": {},
   "outputs": [
    {
     "data": {
      "image/png": "[encoded data removed]",
      "text/plain": [
       "<Figure size 1152x432 with 1 Axes>"
      ]
     },
     "metadata": {
      "needs_background": "light"
     },
     "output_type": "display_data"
    }
   ],
   "source": [
    "plt.figure(figsize = (16,6))\n",
    "plt.title(f\"Score R_Quadrado no Treino de {Score_Bonito}%\")\n",
    "plt.plot(Y_Treino)\n",
    "plt.plot(Y_Teste)\n",
    "plt.plot(df_Previsao)\n",
    "plt.legend([f\"Treino com MAPE {Erro_Treino}%\"\n",
    "            , f\"Teste com MAPE {Erro_Teste}%\"\n",
    "            , f\"Previsão  de {len(Y_Teste)} Dias {df_Previsao.values}\"])\n",
    "plt.xlabel(\"Datas, da Série Temporal\")\n",
    "plt.ylabel(\"Quantidade de Casos Confirmados\")\n",
    "plt.savefig(\"Resultado_AulaEspecial04_Prof.VictorVenites.jpg\")\n",
    "plt.show()"
   ]
  }
 ],
 "metadata": {
  "kernelspec": {
   "display_name": "Python 3",
   "language": "python",
   "name": "python3"
  },
  "language_info": {
   "codemirror_mode": {
    "name": "ipython",
    "version": 3
   },
   "file_extension": ".py",
   "mimetype": "text/x-python",
   "name": "python",
   "nbconvert_exporter": "python",
   "pygments_lexer": "ipython3",
   "version": "3.7.3"
  }
 },
 "nbformat": 4,
 "nbformat_minor": 4
}
