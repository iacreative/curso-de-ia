{
 "cells": [
  {
   "cell_type": "markdown",
   "metadata": {},
   "source": [
    "# Utilização API - Portal da Transparência"
   ]
  },
  {
   "cell_type": "code",
   "execution_count": null,
   "metadata": {},
   "outputs": [],
   "source": [
    "# endpoint que será chamado\n",
    "url = \"http://www.transparencia.gov.br/api-de-dados/bolsa-familia-por-municipio\""
   ]
  },
  {
   "cell_type": "code",
   "execution_count": null,
   "metadata": {},
   "outputs": [],
   "source": [
    "import requests"
   ]
  },
  {
   "cell_type": "code",
   "execution_count": null,
   "metadata": {},
   "outputs": [],
   "source": [
    "# Captura o período a ser consultado, formato AAAAMM\n",
    "mesAno = input(\"Informar período - (formato AAAAMM):\")\n",
    "# Captura o código IBGE\n",
    "codigoIbge = input(\"Informar Código IBGE: \")\n",
    "# Valor fixo na consulta, já que o serviço retorna somente uma página\n",
    "pagina = 1\n",
    "# Monta o dicionário com as informações capturadas \n",
    "data = {\"mesAno\":mesAno, \"codigoIbge\" : codigoIbge,  \"pagina\" : pagina}\n",
    "# Imprime o dicionário na tela\n",
    "print(data)"
   ]
  },
  {
   "cell_type": "code",
   "execution_count": null,
   "metadata": {},
   "outputs": [],
   "source": [
    "# apresenta o código de retorno da requisição\n",
    "resultado = requests.get(url, params=data)\n",
    "print(resultado)"
   ]
  },
  {
   "cell_type": "code",
   "execution_count": null,
   "metadata": {},
   "outputs": [],
   "source": [
    "resultado.text"
   ]
  },
  {
   "cell_type": "code",
   "execution_count": null,
   "metadata": {},
   "outputs": [],
   "source": [
    "rJson = resultado.json()[0]\n",
    "print(rJson)"
   ]
  },
  {
   "cell_type": "code",
   "execution_count": null,
   "metadata": {},
   "outputs": [],
   "source": [
    "# Lê o nome do município\n",
    "nomeBF = rJson['municipio']['nomeIBGE']\n",
    "# Lê o valor gasto\n",
    "valorBF = rJson['valor']\n",
    "# Lê a quantidade de beneficiados\n",
    "quantBF = rJson['quantidadeBeneficiados']\n",
    "# Calcula o valor médio\n",
    "valorMed = valorBF / quantBF\n",
    "# Aprsenta na tela o resultado\n",
    "print(nomeBF, valorMed)"
   ]
  },
  {
   "cell_type": "markdown",
   "metadata": {},
   "source": [
    "# Exemplos de Chamadas a APIs - RapidAPI"
   ]
  },
  {
   "cell_type": "code",
   "execution_count": null,
   "metadata": {},
   "outputs": [],
   "source": [
    "#https://rapidapi.com/KishCom/api/covid-19-coronavirus-statistics\n",
    "import requests\n",
    "\n",
    "url = \"https://covid-19-coronavirus-statistics.p.rapidapi.com/v1/stats\"\n",
    "\n",
    "querystring = {\"country\":\"Brazil\"}\n",
    "\n",
    "headers = {\n",
    "    'x-rapidapi-host': \"covid-19-coronavirus-statistics.p.rapidapi.com\",\n",
    "    'x-rapidapi-key': \"333f8b8985msh326ce7e86c99d6fp15b201jsn49311730ce63\"\n",
    "    }\n",
    "\n",
    "response = requests.request(\"GET\", url, headers=headers, params=querystring)\n",
    "\n",
    "print(response.text)"
   ]
  },
  {
   "cell_type": "code",
   "execution_count": null,
   "metadata": {},
   "outputs": [],
   "source": [
    "#https://rapidapi.com/api-sports/api/covid-193?endpoint=apiendpoint_97f1d614-d52d-459a-bb34-be1211366b0c\n",
    "import requests\n",
    "\n",
    "url = \"https://covid-193.p.rapidapi.com/statistics\"\n",
    "\n",
    "headers = {\n",
    "    'x-rapidapi-host': \"covid-193.p.rapidapi.com\",\n",
    "    'x-rapidapi-key': \"333f8b8985msh326ce7e86c99d6fp15b201jsn49311730ce63\"\n",
    "    }\n",
    "\n",
    "response = requests.request(\"GET\", url, headers=headers)\n",
    "\n",
    "print(response.text)"
   ]
  },
  {
   "cell_type": "code",
   "execution_count": null,
   "metadata": {},
   "outputs": [],
   "source": [
    "#https://rapidapi.com/erinaldo.sds/api/covid-19-ce\n",
    "import requests\n",
    "\n",
    "url = \"https://covid-19-ce.p.rapidapi.com/\"\n",
    "\n",
    "headers = {\n",
    "    'x-rapidapi-host': \"covid-19-ce.p.rapidapi.com\",\n",
    "    'x-rapidapi-key': \"333f8b8985msh326ce7e86c99d6fp15b201jsn49311730ce63\"\n",
    "    }\n",
    "\n",
    "response = requests.request(\"GET\", url, headers=headers)\n",
    "\n",
    "print(response.text)"
   ]
  },
  {
   "cell_type": "code",
   "execution_count": null,
   "metadata": {},
   "outputs": [],
   "source": [
    "# https://rapidapi.com/axisbits-axisbits-default/api/covid-19-statistics\n",
    "import requests\n",
    "\n",
    "url = \"https://covid-19-statistics.p.rapidapi.com/provinces\"\n",
    "\n",
    "querystring = {\"iso\":\"CHN\"}\n",
    "\n",
    "headers = {\n",
    "    'x-rapidapi-host': \"covid-19-statistics.p.rapidapi.com\",\n",
    "    'x-rapidapi-key': \"333f8b8985msh326ce7e86c99d6fp15b201jsn49311730ce63\"\n",
    "    }\n",
    "\n",
    "response = requests.request(\"GET\", url, headers=headers, params=querystring)\n",
    "\n",
    "print(response.text)"
   ]
  },
  {
   "cell_type": "markdown",
   "metadata": {},
   "source": [
    "# Leitura dados PDF"
   ]
  },
  {
   "cell_type": "code",
   "execution_count": null,
   "metadata": {},
   "outputs": [],
   "source": [
    "import camelot\n",
    "import pandas as pd\n",
    "tables = camelot.read_pdf(\"coronavirus2703_32situacao_epidemiologica.pdf\", pages='all', flavor='stream')\n",
    "tables"
   ]
  },
  {
   "cell_type": "code",
   "execution_count": null,
   "metadata": {},
   "outputs": [],
   "source": [
    "# a primeira tabela está na posição inicial - zero\n",
    "tables[0].df"
   ]
  },
  {
   "cell_type": "code",
   "execution_count": null,
   "metadata": {},
   "outputs": [],
   "source": [
    "# passa os dados para um Dataframe do Pandas\n",
    "dfQuadro = pd.DataFrame(tables[0].df)\n",
    "dfQuadro"
   ]
  },
  {
   "cell_type": "code",
   "execution_count": null,
   "metadata": {},
   "outputs": [],
   "source": [
    "# corte das colunas que serão selecionadas\n",
    "dfCorte1 = dfQuadro.loc[:, 3:5]\n",
    "# ajuste nome colunas\n",
    "dfCorte1.columns=['MUNICIPIO', 'CONFIRMADOS','OBITOS']\n",
    "# drop linha com nome colunas\n",
    "dfCorte1.drop([0], inplace = True)\n",
    "dfCorte1"
   ]
  },
  {
   "cell_type": "code",
   "execution_count": null,
   "metadata": {},
   "outputs": [],
   "source": [
    "# corte das colunas a serem selecionadas\n",
    "dfCorte2 = dfQuadro.loc[:, 6:8]\n",
    "# ajuste nome colunas\n",
    "dfCorte2.columns=['MUNICIPIO', 'CONFIRMADOS','OBITOS']\n",
    "# drop linha com nome das colunas\n",
    "dfCorte2.drop([0], inplace = True)\n",
    "dfCorte2"
   ]
  },
  {
   "cell_type": "code",
   "execution_count": null,
   "metadata": {},
   "outputs": [],
   "source": [
    "# drop das colunas que já foram \"cortadas\" \n",
    "dfQuadro.drop(dfQuadro.columns[[3,4,5,6,7,8]], axis=1, inplace=True)\n",
    "# ajuste nome colunas\n",
    "dfQuadro.columns=['MUNICIPIO', 'CONFIRMADOS','OBITOS']\n",
    "# retira dados da primeira coluna\n",
    "dfQuadro.drop([0], inplace = True)\n",
    "dfQuadro"
   ]
  },
  {
   "cell_type": "code",
   "execution_count": null,
   "metadata": {},
   "outputs": [],
   "source": [
    "# faz a concatenação dos dados\n",
    "dfFinal = pd.concat([dfQuadro, dfCorte1, dfCorte2], axis=0, ignore_index=True, sort = True)\n",
    "dfFinal"
   ]
  }
 ],
 "metadata": {
  "kernelspec": {
   "display_name": "Python 3",
   "language": "python",
   "name": "python3"
  },
  "language_info": {
   "codemirror_mode": {
    "name": "ipython",
    "version": 3
   },
   "file_extension": ".py",
   "mimetype": "text/x-python",
   "name": "python",
   "nbconvert_exporter": "python",
   "pygments_lexer": "ipython3",
   "version": "3.7.1"
  }
 },
 "nbformat": 4,
 "nbformat_minor": 4
}
